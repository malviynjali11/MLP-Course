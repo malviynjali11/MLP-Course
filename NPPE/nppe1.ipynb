{
 "cells": [
  {
   "cell_type": "code",
   "execution_count": 3,
   "metadata": {},
   "outputs": [],
   "source": [
    "# Importing necessary libraries \n",
    "import numpy as np \n",
    "import pandas as pd \n",
    "import matplotlib.pyplot as plt\n",
    "import seaborn as sns"
   ]
  },
  {
   "cell_type": "code",
   "execution_count": 61,
   "metadata": {},
   "outputs": [],
   "source": [
    "df = pd.read_csv(\"NPPE1_Preprocessing1.csv\")"
   ]
  },
  {
   "cell_type": "code",
   "execution_count": 62,
   "metadata": {},
   "outputs": [
    {
     "data": {
      "text/plain": [
       "(4000, 14)"
      ]
     },
     "execution_count": 62,
     "metadata": {},
     "output_type": "execute_result"
    }
   ],
   "source": [
    "df.shape"
   ]
  },
  {
   "cell_type": "code",
   "execution_count": 63,
   "metadata": {},
   "outputs": [
    {
     "data": {
      "text/html": [
       "<div>\n",
       "<style scoped>\n",
       "    .dataframe tbody tr th:only-of-type {\n",
       "        vertical-align: middle;\n",
       "    }\n",
       "\n",
       "    .dataframe tbody tr th {\n",
       "        vertical-align: top;\n",
       "    }\n",
       "\n",
       "    .dataframe thead th {\n",
       "        text-align: right;\n",
       "    }\n",
       "</style>\n",
       "<table border=\"1\" class=\"dataframe\">\n",
       "  <thead>\n",
       "    <tr style=\"text-align: right;\">\n",
       "      <th></th>\n",
       "      <th>CRIM</th>\n",
       "      <th>ZN</th>\n",
       "      <th>INDUS</th>\n",
       "      <th>POLINDEX</th>\n",
       "      <th>RM</th>\n",
       "      <th>AGE</th>\n",
       "      <th>DIS</th>\n",
       "      <th>HIGHWAYCOUNT</th>\n",
       "      <th>TAX</th>\n",
       "      <th>PTRATIO</th>\n",
       "      <th>IMM</th>\n",
       "      <th>BPL</th>\n",
       "      <th>PRICE</th>\n",
       "      <th>RIVERSIDE</th>\n",
       "    </tr>\n",
       "  </thead>\n",
       "  <tbody>\n",
       "    <tr>\n",
       "      <th>0</th>\n",
       "      <td>1.026769</td>\n",
       "      <td>1.429034</td>\n",
       "      <td>7.851300</td>\n",
       "      <td>1.134216</td>\n",
       "      <td>6.0</td>\n",
       "      <td>42.0</td>\n",
       "      <td>5.251911</td>\n",
       "      <td>5</td>\n",
       "      <td>279.201277</td>\n",
       "      <td>20.689586</td>\n",
       "      <td>398.811960</td>\n",
       "      <td>10.461456</td>\n",
       "      <td>22.991633</td>\n",
       "      <td>NO</td>\n",
       "    </tr>\n",
       "    <tr>\n",
       "      <th>1</th>\n",
       "      <td>0.848089</td>\n",
       "      <td>0.255543</td>\n",
       "      <td>6.263434</td>\n",
       "      <td>1.245993</td>\n",
       "      <td>7.0</td>\n",
       "      <td>63.0</td>\n",
       "      <td>4.305546</td>\n",
       "      <td>8</td>\n",
       "      <td>307.444529</td>\n",
       "      <td>17.465398</td>\n",
       "      <td>377.153649</td>\n",
       "      <td>11.619690</td>\n",
       "      <td>24.551055</td>\n",
       "      <td>NO</td>\n",
       "    </tr>\n",
       "    <tr>\n",
       "      <th>2</th>\n",
       "      <td>10.925905</td>\n",
       "      <td>0.441022</td>\n",
       "      <td>18.322960</td>\n",
       "      <td>2.824833</td>\n",
       "      <td>8.0</td>\n",
       "      <td>-2.0</td>\n",
       "      <td>2.409495</td>\n",
       "      <td>25</td>\n",
       "      <td>666.492973</td>\n",
       "      <td>20.351601</td>\n",
       "      <td>387.061355</td>\n",
       "      <td>19.366070</td>\n",
       "      <td>15.875346</td>\n",
       "      <td>NO</td>\n",
       "    </tr>\n",
       "    <tr>\n",
       "      <th>3</th>\n",
       "      <td>0.559027</td>\n",
       "      <td>1.041175</td>\n",
       "      <td>11.114920</td>\n",
       "      <td>0.794952</td>\n",
       "      <td>6.0</td>\n",
       "      <td>9.0</td>\n",
       "      <td>6.898669</td>\n",
       "      <td>4</td>\n",
       "      <td>305.514181</td>\n",
       "      <td>19.787314</td>\n",
       "      <td>391.778647</td>\n",
       "      <td>6.206820</td>\n",
       "      <td>23.007756</td>\n",
       "      <td>NO</td>\n",
       "    </tr>\n",
       "    <tr>\n",
       "      <th>4</th>\n",
       "      <td>0.905063</td>\n",
       "      <td>81.167963</td>\n",
       "      <td>3.673369</td>\n",
       "      <td>1.029030</td>\n",
       "      <td>8.0</td>\n",
       "      <td>20.0</td>\n",
       "      <td>10.246463</td>\n",
       "      <td>1</td>\n",
       "      <td>315.913960</td>\n",
       "      <td>17.360439</td>\n",
       "      <td>395.833166</td>\n",
       "      <td>10.827105</td>\n",
       "      <td>21.503177</td>\n",
       "      <td>NO</td>\n",
       "    </tr>\n",
       "  </tbody>\n",
       "</table>\n",
       "</div>"
      ],
      "text/plain": [
       "        CRIM         ZN      INDUS  POLINDEX   RM   AGE        DIS  \\\n",
       "0   1.026769   1.429034   7.851300  1.134216  6.0  42.0   5.251911   \n",
       "1   0.848089   0.255543   6.263434  1.245993  7.0  63.0   4.305546   \n",
       "2  10.925905   0.441022  18.322960  2.824833  8.0  -2.0   2.409495   \n",
       "3   0.559027   1.041175  11.114920  0.794952  6.0   9.0   6.898669   \n",
       "4   0.905063  81.167963   3.673369  1.029030  8.0  20.0  10.246463   \n",
       "\n",
       "   HIGHWAYCOUNT         TAX    PTRATIO         IMM        BPL      PRICE  \\\n",
       "0             5  279.201277  20.689586  398.811960  10.461456  22.991633   \n",
       "1             8  307.444529  17.465398  377.153649  11.619690  24.551055   \n",
       "2            25  666.492973  20.351601  387.061355  19.366070  15.875346   \n",
       "3             4  305.514181  19.787314  391.778647   6.206820  23.007756   \n",
       "4             1  315.913960  17.360439  395.833166  10.827105  21.503177   \n",
       "\n",
       "  RIVERSIDE  \n",
       "0        NO  \n",
       "1        NO  \n",
       "2        NO  \n",
       "3        NO  \n",
       "4        NO  "
      ]
     },
     "execution_count": 63,
     "metadata": {},
     "output_type": "execute_result"
    }
   ],
   "source": [
    "df.head()"
   ]
  },
  {
   "cell_type": "code",
   "execution_count": 64,
   "metadata": {},
   "outputs": [
    {
     "data": {
      "text/plain": [
       "np.float64(24.355923220694248)"
      ]
     },
     "execution_count": 64,
     "metadata": {},
     "output_type": "execute_result"
    }
   ],
   "source": [
    "df[\"PRICE\"].mean()"
   ]
  },
  {
   "cell_type": "code",
   "execution_count": 65,
   "metadata": {},
   "outputs": [
    {
     "data": {
      "text/plain": [
       "RM\n",
       " 7.0     1733\n",
       " 6.0      961\n",
       " 8.0      894\n",
       " 9.0      276\n",
       " 5.0       47\n",
       " 10.0      40\n",
       "-1.0       40\n",
       " 4.0        7\n",
       " 11.0       2\n",
       "Name: count, dtype: int64"
      ]
     },
     "execution_count": 65,
     "metadata": {},
     "output_type": "execute_result"
    }
   ],
   "source": [
    "df['RM'].value_counts()\n",
    "# -1 is not possible , in the no. of rooms feature"
   ]
  },
  {
   "cell_type": "code",
   "execution_count": 66,
   "metadata": {},
   "outputs": [
    {
     "data": {
      "text/plain": [
       "3953"
      ]
     },
     "execution_count": 66,
     "metadata": {},
     "output_type": "execute_result"
    }
   ],
   "source": [
    "1733+961+894+276+47+40+2"
   ]
  },
  {
   "cell_type": "code",
   "execution_count": 67,
   "metadata": {},
   "outputs": [
    {
     "data": {
      "text/plain": [
       "np.float64(52.36590175716407)"
      ]
     },
     "execution_count": 67,
     "metadata": {},
     "output_type": "execute_result"
    }
   ],
   "source": [
    "top_10_houses = df.sort_values(by='PRICE', ascending=False).head(10)\n",
    "avrg_price = top_10_houses['PRICE'].mean()\n",
    "avrg_price"
   ]
  },
  {
   "cell_type": "code",
   "execution_count": 68,
   "metadata": {},
   "outputs": [
    {
     "data": {
      "text/plain": [
       "array([ 6.,  7.,  8.,  9., 10., -1.,  5.,  4., 11.])"
      ]
     },
     "execution_count": 68,
     "metadata": {},
     "output_type": "execute_result"
    }
   ],
   "source": [
    "df['RM'].unique()"
   ]
  },
  {
   "cell_type": "code",
   "execution_count": 69,
   "metadata": {},
   "outputs": [
    {
     "data": {
      "text/plain": [
       "CRIM            0\n",
       "ZN              0\n",
       "INDUS           0\n",
       "POLINDEX        0\n",
       "RM              0\n",
       "AGE             0\n",
       "DIS             0\n",
       "HIGHWAYCOUNT    0\n",
       "TAX             0\n",
       "PTRATIO         0\n",
       "IMM             0\n",
       "BPL             0\n",
       "PRICE           0\n",
       "RIVERSIDE       0\n",
       "dtype: int64"
      ]
     },
     "execution_count": 69,
     "metadata": {},
     "output_type": "execute_result"
    }
   ],
   "source": [
    "df.isnull().sum()"
   ]
  },
  {
   "cell_type": "code",
   "execution_count": 70,
   "metadata": {},
   "outputs": [
    {
     "data": {
      "text/plain": [
       "array([ 42.,  63.,  -2.,   9.,  20.,  95.,  35.,  97.,  36.,  78.,  99.,\n",
       "        96.,  19.,  73.,  86.,  37.,  76.,  50.,  32.,  92., 101.,   8.,\n",
       "        94.,  84.,  47.,  43.,  65.,  46.,  59.,  74.,  93.,  80.,  98.,\n",
       "       102.,  56., 100.,  89.,  53.,  18.,  71.,  62.,  83.,  66.,   7.,\n",
       "        77.,  91.,  90.,  58.,  57.,  60.,  87.,  75.,  34.,  85.,  48.,\n",
       "        33.,  38.,  30.,  23.,  55.,  11.,  14.,  45.,  41.,  88.,  16.,\n",
       "        12.,  79.,  67.,  39.,  49.,  61.,  70.,  54.,  10.,  22.,  72.,\n",
       "        15.,  51.,  81.,  31.,  52.,  44.,  28.,  17.,  40.,  29.,  69.,\n",
       "        64.,  24.,  82.,  26.,  68.,  27.,  13., 103.,  21.,  25.,   6.,\n",
       "         5.,   3.,   4.])"
      ]
     },
     "execution_count": 70,
     "metadata": {},
     "output_type": "execute_result"
    }
   ],
   "source": [
    "df['AGE'].unique()\n",
    "# -2, "
   ]
  },
  {
   "cell_type": "code",
   "execution_count": 71,
   "metadata": {},
   "outputs": [
    {
     "data": {
      "text/plain": [
       "AGE\n",
       "99.0     142\n",
       "100.0    136\n",
       "96.0     127\n",
       "95.0     117\n",
       "98.0     102\n",
       "        ... \n",
       "12.0       4\n",
       "103.0      3\n",
       "5.0        3\n",
       "3.0        2\n",
       "4.0        1\n",
       "Name: count, Length: 102, dtype: int64"
      ]
     },
     "execution_count": 71,
     "metadata": {},
     "output_type": "execute_result"
    }
   ],
   "source": [
    "df['AGE'].value_counts()"
   ]
  },
  {
   "cell_type": "code",
   "execution_count": 72,
   "metadata": {},
   "outputs": [
    {
     "data": {
      "text/plain": [
       "np.int64(50)"
      ]
     },
     "execution_count": 72,
     "metadata": {},
     "output_type": "execute_result"
    }
   ],
   "source": [
    "(df['AGE'] == -2).sum()"
   ]
  },
  {
   "cell_type": "code",
   "execution_count": 73,
   "metadata": {},
   "outputs": [
    {
     "data": {
      "text/plain": [
       "RIVERSIDE\n",
       "NO         3595\n",
       "YES         317\n",
       "UNKNOWN      88\n",
       "Name: count, dtype: int64"
      ]
     },
     "execution_count": 73,
     "metadata": {},
     "output_type": "execute_result"
    }
   ],
   "source": [
    "df['RIVERSIDE'].value_counts()"
   ]
  },
  {
   "cell_type": "code",
   "execution_count": 74,
   "metadata": {},
   "outputs": [
    {
     "data": {
      "text/plain": [
       "53"
      ]
     },
     "execution_count": 74,
     "metadata": {},
     "output_type": "execute_result"
    }
   ],
   "source": [
    "filt_df = df.dropna(subset=['AGE', 'RIVERSIDE'])\n",
    "rzlt = filt_df[(filt_df['RIVERSIDE'] == 'YES') & (filt_df['AGE'] <=50)]\n",
    "count = rzlt.shape[0]\n",
    "count"
   ]
  },
  {
   "cell_type": "code",
   "execution_count": 75,
   "metadata": {},
   "outputs": [
    {
     "data": {
      "text/plain": [
       "HIGHWAYCOUNT\n",
       "5     931\n",
       "6     701\n",
       "4     562\n",
       "25    350\n",
       "7     338\n",
       "3     249\n",
       "24    223\n",
       "8     172\n",
       "2     160\n",
       "9     136\n",
       "26     80\n",
       "1      67\n",
       "10     20\n",
       "27      9\n",
       "11      2\n",
       "Name: count, dtype: int64"
      ]
     },
     "execution_count": 75,
     "metadata": {},
     "output_type": "execute_result"
    }
   ],
   "source": [
    "df['HIGHWAYCOUNT'].value_counts()"
   ]
  },
  {
   "cell_type": "code",
   "execution_count": 76,
   "metadata": {},
   "outputs": [
    {
     "data": {
      "text/plain": [
       "1211"
      ]
     },
     "execution_count": 76,
     "metadata": {},
     "output_type": "execute_result"
    }
   ],
   "source": [
    "701 + 338 + 172"
   ]
  },
  {
   "cell_type": "code",
   "execution_count": 77,
   "metadata": {},
   "outputs": [],
   "source": [
    "# Create a new column category based on the house price \n",
    "def cat(price):\n",
    "    if price<10:\n",
    "        return 'Category 1'\n",
    "    elif 10<=price<20:\n",
    "        return 'Category 2'\n",
    "    elif 20<=price<30:\n",
    "       return 'Category 3'\n",
    "    elif 30<=price<40:\n",
    "        return 'Category 4'\n",
    "    else:\n",
    "        return 'Category 5'               "
   ]
  },
  {
   "cell_type": "code",
   "execution_count": 78,
   "metadata": {},
   "outputs": [],
   "source": [
    "# Apllying the categorize function to create the new CATEGORY column\n",
    "df['CATEGORY'] = df['PRICE'].apply(cat)"
   ]
  },
  {
   "cell_type": "code",
   "execution_count": 79,
   "metadata": {},
   "outputs": [],
   "source": [
    "cat_counts = df['CATEGORY'].value_counts()"
   ]
  },
  {
   "cell_type": "code",
   "execution_count": 80,
   "metadata": {},
   "outputs": [
    {
     "data": {
      "text/plain": [
       "np.int64(2028)"
      ]
     },
     "execution_count": 80,
     "metadata": {},
     "output_type": "execute_result"
    }
   ],
   "source": [
    "cat_counts.max()"
   ]
  },
  {
   "cell_type": "code",
   "execution_count": 81,
   "metadata": {},
   "outputs": [],
   "source": [
    "from sklearn.model_selection import train_test_split"
   ]
  },
  {
   "cell_type": "code",
   "execution_count": 88,
   "metadata": {},
   "outputs": [],
   "source": [
    "df['RM'] = df['RM'].replace(-1, np.nan)\n",
    "df['RIVERSIDE'] = df['RIVERSIDE'].replace('UNKNOWN', np.nan)\n",
    "df['AGE'] = df['AGE'].replace(-2, np.nan)"
   ]
  },
  {
   "cell_type": "code",
   "execution_count": 89,
   "metadata": {},
   "outputs": [
    {
     "name": "stdout",
     "output_type": "stream",
     "text": [
      "<class 'pandas.core.frame.DataFrame'>\n",
      "RangeIndex: 4000 entries, 0 to 3999\n",
      "Data columns (total 15 columns):\n",
      " #   Column        Non-Null Count  Dtype  \n",
      "---  ------        --------------  -----  \n",
      " 0   CRIM          4000 non-null   float64\n",
      " 1   ZN            4000 non-null   float64\n",
      " 2   INDUS         4000 non-null   float64\n",
      " 3   POLINDEX      4000 non-null   float64\n",
      " 4   RM            3960 non-null   float64\n",
      " 5   AGE           3950 non-null   float64\n",
      " 6   DIS           4000 non-null   float64\n",
      " 7   HIGHWAYCOUNT  4000 non-null   int64  \n",
      " 8   TAX           4000 non-null   float64\n",
      " 9   PTRATIO       4000 non-null   float64\n",
      " 10  IMM           4000 non-null   float64\n",
      " 11  BPL           4000 non-null   float64\n",
      " 12  PRICE         4000 non-null   float64\n",
      " 13  RIVERSIDE     3912 non-null   object \n",
      " 14  CATEGORY      4000 non-null   object \n",
      "dtypes: float64(12), int64(1), object(2)\n",
      "memory usage: 468.9+ KB\n"
     ]
    }
   ],
   "source": [
    "df.info()"
   ]
  },
  {
   "cell_type": "code",
   "execution_count": 93,
   "metadata": {},
   "outputs": [],
   "source": [
    "x = df.drop(columns='PRICE')\n",
    "y = df['PRICE']"
   ]
  },
  {
   "cell_type": "code",
   "execution_count": 94,
   "metadata": {},
   "outputs": [],
   "source": [
    "x_train, x_test, y_train, y_test = train_test_split(x, y, test_size=0.3, random_state=0)"
   ]
  },
  {
   "cell_type": "code",
   "execution_count": 95,
   "metadata": {},
   "outputs": [
    {
     "data": {
      "text/plain": [
       "(2800, 14)"
      ]
     },
     "execution_count": 95,
     "metadata": {},
     "output_type": "execute_result"
    }
   ],
   "source": [
    "x_train.shape"
   ]
  },
  {
   "cell_type": "code",
   "execution_count": 114,
   "metadata": {},
   "outputs": [
    {
     "data": {
      "text/html": [
       "<div>\n",
       "<style scoped>\n",
       "    .dataframe tbody tr th:only-of-type {\n",
       "        vertical-align: middle;\n",
       "    }\n",
       "\n",
       "    .dataframe tbody tr th {\n",
       "        vertical-align: top;\n",
       "    }\n",
       "\n",
       "    .dataframe thead th {\n",
       "        text-align: right;\n",
       "    }\n",
       "</style>\n",
       "<table border=\"1\" class=\"dataframe\">\n",
       "  <thead>\n",
       "    <tr style=\"text-align: right;\">\n",
       "      <th></th>\n",
       "      <th>CRIM</th>\n",
       "      <th>ZN</th>\n",
       "      <th>INDUS</th>\n",
       "      <th>POLINDEX</th>\n",
       "      <th>RM</th>\n",
       "      <th>AGE</th>\n",
       "      <th>DIS</th>\n",
       "      <th>HIGHWAYCOUNT</th>\n",
       "      <th>TAX</th>\n",
       "      <th>PTRATIO</th>\n",
       "      <th>IMM</th>\n",
       "      <th>BPL</th>\n",
       "      <th>PRICE</th>\n",
       "      <th>RIVERSIDE</th>\n",
       "      <th>CATEGORY</th>\n",
       "    </tr>\n",
       "  </thead>\n",
       "  <tbody>\n",
       "    <tr>\n",
       "      <th>0</th>\n",
       "      <td>1.026769</td>\n",
       "      <td>1.429034</td>\n",
       "      <td>7.851300</td>\n",
       "      <td>1.134216</td>\n",
       "      <td>6.0</td>\n",
       "      <td>42.0</td>\n",
       "      <td>5.251911</td>\n",
       "      <td>5</td>\n",
       "      <td>279.201277</td>\n",
       "      <td>20.689586</td>\n",
       "      <td>398.811960</td>\n",
       "      <td>10.461456</td>\n",
       "      <td>22.991633</td>\n",
       "      <td>NO</td>\n",
       "      <td>Category 3</td>\n",
       "    </tr>\n",
       "    <tr>\n",
       "      <th>1</th>\n",
       "      <td>0.848089</td>\n",
       "      <td>0.255543</td>\n",
       "      <td>6.263434</td>\n",
       "      <td>1.245993</td>\n",
       "      <td>7.0</td>\n",
       "      <td>63.0</td>\n",
       "      <td>4.305546</td>\n",
       "      <td>8</td>\n",
       "      <td>307.444529</td>\n",
       "      <td>17.465398</td>\n",
       "      <td>377.153649</td>\n",
       "      <td>11.619690</td>\n",
       "      <td>24.551055</td>\n",
       "      <td>NO</td>\n",
       "      <td>Category 3</td>\n",
       "    </tr>\n",
       "    <tr>\n",
       "      <th>2</th>\n",
       "      <td>10.925905</td>\n",
       "      <td>0.441022</td>\n",
       "      <td>18.322960</td>\n",
       "      <td>2.824833</td>\n",
       "      <td>8.0</td>\n",
       "      <td>NaN</td>\n",
       "      <td>2.409495</td>\n",
       "      <td>25</td>\n",
       "      <td>666.492973</td>\n",
       "      <td>20.351601</td>\n",
       "      <td>387.061355</td>\n",
       "      <td>19.366070</td>\n",
       "      <td>15.875346</td>\n",
       "      <td>NO</td>\n",
       "      <td>Category 2</td>\n",
       "    </tr>\n",
       "    <tr>\n",
       "      <th>3</th>\n",
       "      <td>0.559027</td>\n",
       "      <td>1.041175</td>\n",
       "      <td>11.114920</td>\n",
       "      <td>0.794952</td>\n",
       "      <td>6.0</td>\n",
       "      <td>9.0</td>\n",
       "      <td>6.898669</td>\n",
       "      <td>4</td>\n",
       "      <td>305.514181</td>\n",
       "      <td>19.787314</td>\n",
       "      <td>391.778647</td>\n",
       "      <td>6.206820</td>\n",
       "      <td>23.007756</td>\n",
       "      <td>NO</td>\n",
       "      <td>Category 3</td>\n",
       "    </tr>\n",
       "    <tr>\n",
       "      <th>4</th>\n",
       "      <td>0.905063</td>\n",
       "      <td>81.167963</td>\n",
       "      <td>3.673369</td>\n",
       "      <td>1.029030</td>\n",
       "      <td>8.0</td>\n",
       "      <td>20.0</td>\n",
       "      <td>10.246463</td>\n",
       "      <td>1</td>\n",
       "      <td>315.913960</td>\n",
       "      <td>17.360439</td>\n",
       "      <td>395.833166</td>\n",
       "      <td>10.827105</td>\n",
       "      <td>21.503177</td>\n",
       "      <td>NO</td>\n",
       "      <td>Category 3</td>\n",
       "    </tr>\n",
       "  </tbody>\n",
       "</table>\n",
       "</div>"
      ],
      "text/plain": [
       "        CRIM         ZN      INDUS  POLINDEX   RM   AGE        DIS  \\\n",
       "0   1.026769   1.429034   7.851300  1.134216  6.0  42.0   5.251911   \n",
       "1   0.848089   0.255543   6.263434  1.245993  7.0  63.0   4.305546   \n",
       "2  10.925905   0.441022  18.322960  2.824833  8.0   NaN   2.409495   \n",
       "3   0.559027   1.041175  11.114920  0.794952  6.0   9.0   6.898669   \n",
       "4   0.905063  81.167963   3.673369  1.029030  8.0  20.0  10.246463   \n",
       "\n",
       "   HIGHWAYCOUNT         TAX    PTRATIO         IMM        BPL      PRICE  \\\n",
       "0             5  279.201277  20.689586  398.811960  10.461456  22.991633   \n",
       "1             8  307.444529  17.465398  377.153649  11.619690  24.551055   \n",
       "2            25  666.492973  20.351601  387.061355  19.366070  15.875346   \n",
       "3             4  305.514181  19.787314  391.778647   6.206820  23.007756   \n",
       "4             1  315.913960  17.360439  395.833166  10.827105  21.503177   \n",
       "\n",
       "  RIVERSIDE    CATEGORY  \n",
       "0        NO  Category 3  \n",
       "1        NO  Category 3  \n",
       "2        NO  Category 2  \n",
       "3        NO  Category 3  \n",
       "4        NO  Category 3  "
      ]
     },
     "execution_count": 114,
     "metadata": {},
     "output_type": "execute_result"
    }
   ],
   "source": [
    "df.head()"
   ]
  },
  {
   "cell_type": "code",
   "execution_count": 115,
   "metadata": {},
   "outputs": [
    {
     "data": {
      "text/html": [
       "<div>\n",
       "<style scoped>\n",
       "    .dataframe tbody tr th:only-of-type {\n",
       "        vertical-align: middle;\n",
       "    }\n",
       "\n",
       "    .dataframe tbody tr th {\n",
       "        vertical-align: top;\n",
       "    }\n",
       "\n",
       "    .dataframe thead th {\n",
       "        text-align: right;\n",
       "    }\n",
       "</style>\n",
       "<table border=\"1\" class=\"dataframe\">\n",
       "  <thead>\n",
       "    <tr style=\"text-align: right;\">\n",
       "      <th></th>\n",
       "      <th>CRIM</th>\n",
       "      <th>ZN</th>\n",
       "      <th>INDUS</th>\n",
       "      <th>POLINDEX</th>\n",
       "      <th>RM</th>\n",
       "      <th>AGE</th>\n",
       "      <th>DIS</th>\n",
       "      <th>HIGHWAYCOUNT</th>\n",
       "      <th>TAX</th>\n",
       "      <th>PTRATIO</th>\n",
       "      <th>IMM</th>\n",
       "      <th>BPL</th>\n",
       "      <th>PRICE</th>\n",
       "      <th>RIVERSIDE</th>\n",
       "      <th>CATEGORY</th>\n",
       "    </tr>\n",
       "  </thead>\n",
       "  <tbody>\n",
       "    <tr>\n",
       "      <th>0</th>\n",
       "      <td>1.026769</td>\n",
       "      <td>1.429034</td>\n",
       "      <td>7.851300</td>\n",
       "      <td>1.134216</td>\n",
       "      <td>6.0</td>\n",
       "      <td>42.0</td>\n",
       "      <td>5.251911</td>\n",
       "      <td>5</td>\n",
       "      <td>279.201277</td>\n",
       "      <td>20.689586</td>\n",
       "      <td>398.811960</td>\n",
       "      <td>10.461456</td>\n",
       "      <td>22.991633</td>\n",
       "      <td>NO</td>\n",
       "      <td>Category 3</td>\n",
       "    </tr>\n",
       "    <tr>\n",
       "      <th>1</th>\n",
       "      <td>0.848089</td>\n",
       "      <td>0.255543</td>\n",
       "      <td>6.263434</td>\n",
       "      <td>1.245993</td>\n",
       "      <td>7.0</td>\n",
       "      <td>63.0</td>\n",
       "      <td>4.305546</td>\n",
       "      <td>8</td>\n",
       "      <td>307.444529</td>\n",
       "      <td>17.465398</td>\n",
       "      <td>377.153649</td>\n",
       "      <td>11.619690</td>\n",
       "      <td>24.551055</td>\n",
       "      <td>NO</td>\n",
       "      <td>Category 3</td>\n",
       "    </tr>\n",
       "    <tr>\n",
       "      <th>2</th>\n",
       "      <td>10.925905</td>\n",
       "      <td>0.441022</td>\n",
       "      <td>18.322960</td>\n",
       "      <td>2.824833</td>\n",
       "      <td>8.0</td>\n",
       "      <td>NaN</td>\n",
       "      <td>2.409495</td>\n",
       "      <td>25</td>\n",
       "      <td>666.492973</td>\n",
       "      <td>20.351601</td>\n",
       "      <td>387.061355</td>\n",
       "      <td>19.366070</td>\n",
       "      <td>15.875346</td>\n",
       "      <td>NO</td>\n",
       "      <td>Category 2</td>\n",
       "    </tr>\n",
       "    <tr>\n",
       "      <th>3</th>\n",
       "      <td>0.559027</td>\n",
       "      <td>1.041175</td>\n",
       "      <td>11.114920</td>\n",
       "      <td>0.794952</td>\n",
       "      <td>6.0</td>\n",
       "      <td>9.0</td>\n",
       "      <td>6.898669</td>\n",
       "      <td>4</td>\n",
       "      <td>305.514181</td>\n",
       "      <td>19.787314</td>\n",
       "      <td>391.778647</td>\n",
       "      <td>6.206820</td>\n",
       "      <td>23.007756</td>\n",
       "      <td>NO</td>\n",
       "      <td>Category 3</td>\n",
       "    </tr>\n",
       "    <tr>\n",
       "      <th>4</th>\n",
       "      <td>0.905063</td>\n",
       "      <td>81.167963</td>\n",
       "      <td>3.673369</td>\n",
       "      <td>1.029030</td>\n",
       "      <td>8.0</td>\n",
       "      <td>20.0</td>\n",
       "      <td>10.246463</td>\n",
       "      <td>1</td>\n",
       "      <td>315.913960</td>\n",
       "      <td>17.360439</td>\n",
       "      <td>395.833166</td>\n",
       "      <td>10.827105</td>\n",
       "      <td>21.503177</td>\n",
       "      <td>NO</td>\n",
       "      <td>Category 3</td>\n",
       "    </tr>\n",
       "  </tbody>\n",
       "</table>\n",
       "</div>"
      ],
      "text/plain": [
       "        CRIM         ZN      INDUS  POLINDEX   RM   AGE        DIS  \\\n",
       "0   1.026769   1.429034   7.851300  1.134216  6.0  42.0   5.251911   \n",
       "1   0.848089   0.255543   6.263434  1.245993  7.0  63.0   4.305546   \n",
       "2  10.925905   0.441022  18.322960  2.824833  8.0   NaN   2.409495   \n",
       "3   0.559027   1.041175  11.114920  0.794952  6.0   9.0   6.898669   \n",
       "4   0.905063  81.167963   3.673369  1.029030  8.0  20.0  10.246463   \n",
       "\n",
       "   HIGHWAYCOUNT         TAX    PTRATIO         IMM        BPL      PRICE  \\\n",
       "0             5  279.201277  20.689586  398.811960  10.461456  22.991633   \n",
       "1             8  307.444529  17.465398  377.153649  11.619690  24.551055   \n",
       "2            25  666.492973  20.351601  387.061355  19.366070  15.875346   \n",
       "3             4  305.514181  19.787314  391.778647   6.206820  23.007756   \n",
       "4             1  315.913960  17.360439  395.833166  10.827105  21.503177   \n",
       "\n",
       "  RIVERSIDE    CATEGORY  \n",
       "0        NO  Category 3  \n",
       "1        NO  Category 3  \n",
       "2        NO  Category 2  \n",
       "3        NO  Category 3  \n",
       "4        NO  Category 3  "
      ]
     },
     "execution_count": 115,
     "metadata": {},
     "output_type": "execute_result"
    }
   ],
   "source": [
    "df1 = df.copy()\n",
    "df1.head()"
   ]
  },
  {
   "cell_type": "code",
   "execution_count": 116,
   "metadata": {},
   "outputs": [],
   "source": [
    "#1\n",
    "df1 = df1.drop(columns = 'CATEGORY' )"
   ]
  },
  {
   "cell_type": "code",
   "execution_count": 141,
   "metadata": {},
   "outputs": [],
   "source": [
    "# 2 and 3\n",
    "from sklearn.preprocessing import MinMaxScaler\n",
    "mms = MinMaxScaler()\n",
    "col_mms = ['CRIM', 'ZN']\n",
    "x_train[col_mms] = mms.fit_transform(x_train[col_mms])\n",
    "x_test[col_mms] = mms.transform(x_test[col_mms])"
   ]
  },
  {
   "cell_type": "code",
   "execution_count": 143,
   "metadata": {},
   "outputs": [],
   "source": [
    "#4\n",
    "from sklearn.preprocessing import StandardScaler\n",
    "ss = StandardScaler()\n",
    "col_ss = ['INDUS']\n",
    "x_train[col_ss] = ss.fit_transform(x_train[col_ss])\n",
    "x_test[col_ss] = ss.transform(x_test[col_ss])"
   ]
  },
  {
   "cell_type": "code",
   "execution_count": 144,
   "metadata": {},
   "outputs": [],
   "source": [
    "# 5, 6, 7, 8, 9, 10 & 11\n",
    "col_mms1 = ['POLINDEX', 'DIS', 'HIGHWAYCOUNT', 'TAX', 'PTRATIO', 'IMM', 'BPL']\n",
    "x_train[col_mms1] = mms.fit_transform(x_train[col_mms1])\n",
    "x_test[col_mms1] = mms.transform(x_test[col_mms1])"
   ]
  },
  {
   "cell_type": "code",
   "execution_count": 145,
   "metadata": {},
   "outputs": [],
   "source": [
    "x_train['RM'] = x_train['RM'].fillna(x_train['RM'].median())\n",
    "x_test['RM'] = x_test['RM'].fillna(x_test['RM'].median())\n",
    "x_train['RM'] = mms.fit_transform(x_train[['RM']])\n",
    "x_test['RM'] = mms.transform(x_test[['RM']])"
   ]
  },
  {
   "cell_type": "code",
   "execution_count": 146,
   "metadata": {},
   "outputs": [],
   "source": [
    "x_train['AGE'] = x_train['AGE'].fillna(x_train['RM'].mean())\n",
    "x_test['AGE'] = x_test['AGE'].fillna(x_test['RM'].mean()) \n",
    "x_train['AGE'] = mms.fit_transform(x_train[['AGE']])\n",
    "x_test['AGE'] = mms.transform(x_test[['AGE']])"
   ]
  },
  {
   "cell_type": "code",
   "execution_count": 148,
   "metadata": {},
   "outputs": [],
   "source": [
    "from sklearn.impute import SimpleImputer\n",
    "si = SimpleImputer(strategy='most_frequent')\n",
    "x_train['RIVERSIDE'] = si.fit_transform(x_train[['RIVERSIDE']]).ravel()\n",
    "x_test['RIVERSIDE'] = si.transform(x_test[['RIVERSIDE']]).ravel()"
   ]
  },
  {
   "cell_type": "code",
   "execution_count": 135,
   "metadata": {},
   "outputs": [],
   "source": [
    "from sklearn.preprocessing import OneHotEncoder\n",
    "ohe = OneHotEncoder(sparse_output=False)"
   ]
  },
  {
   "cell_type": "code",
   "execution_count": 151,
   "metadata": {},
   "outputs": [
    {
     "data": {
      "text/html": [
       "<div>\n",
       "<style scoped>\n",
       "    .dataframe tbody tr th:only-of-type {\n",
       "        vertical-align: middle;\n",
       "    }\n",
       "\n",
       "    .dataframe tbody tr th {\n",
       "        vertical-align: top;\n",
       "    }\n",
       "\n",
       "    .dataframe thead th {\n",
       "        text-align: right;\n",
       "    }\n",
       "</style>\n",
       "<table border=\"1\" class=\"dataframe\">\n",
       "  <thead>\n",
       "    <tr style=\"text-align: right;\">\n",
       "      <th></th>\n",
       "      <th>RIVERSIDE_NO</th>\n",
       "      <th>RIVERSIDE_YES</th>\n",
       "    </tr>\n",
       "  </thead>\n",
       "  <tbody>\n",
       "    <tr>\n",
       "      <th>2230</th>\n",
       "      <td>1.0</td>\n",
       "      <td>0.0</td>\n",
       "    </tr>\n",
       "    <tr>\n",
       "      <th>668</th>\n",
       "      <td>1.0</td>\n",
       "      <td>0.0</td>\n",
       "    </tr>\n",
       "    <tr>\n",
       "      <th>3616</th>\n",
       "      <td>1.0</td>\n",
       "      <td>0.0</td>\n",
       "    </tr>\n",
       "    <tr>\n",
       "      <th>2363</th>\n",
       "      <td>1.0</td>\n",
       "      <td>0.0</td>\n",
       "    </tr>\n",
       "    <tr>\n",
       "      <th>142</th>\n",
       "      <td>1.0</td>\n",
       "      <td>0.0</td>\n",
       "    </tr>\n",
       "  </tbody>\n",
       "</table>\n",
       "</div>"
      ],
      "text/plain": [
       "      RIVERSIDE_NO  RIVERSIDE_YES\n",
       "2230           1.0            0.0\n",
       "668            1.0            0.0\n",
       "3616           1.0            0.0\n",
       "2363           1.0            0.0\n",
       "142            1.0            0.0"
      ]
     },
     "execution_count": 151,
     "metadata": {},
     "output_type": "execute_result"
    }
   ],
   "source": [
    "river_ohe = ohe.fit_transform(x_train[['RIVERSIDE']])\n",
    "river_ohe_test = ohe.transform(x_test[['RIVERSIDE']])\n",
    "ohe_col = ohe.get_feature_names_out(['RIVERSIDE'])\n",
    "df_ohe = pd.DataFrame(river_ohe, columns=ohe_col, index=x_train.index)\n",
    "df_ohe_test = pd.DataFrame(river_ohe_test, columns=ohe_col, index=x_test.index)\n",
    "df_ohe_test.head()"
   ]
  },
  {
   "cell_type": "code",
   "execution_count": 152,
   "metadata": {},
   "outputs": [],
   "source": [
    "x_train = pd.concat([x_train, df_ohe], axis=1).drop(columns=['RIVERSIDE'])"
   ]
  },
  {
   "cell_type": "code",
   "execution_count": 154,
   "metadata": {},
   "outputs": [
    {
     "data": {
      "text/plain": [
       "(2800, 15)"
      ]
     },
     "execution_count": 154,
     "metadata": {},
     "output_type": "execute_result"
    }
   ],
   "source": [
    "x_train.shape"
   ]
  },
  {
   "cell_type": "code",
   "execution_count": 166,
   "metadata": {},
   "outputs": [],
   "source": [
    "x_train = x_train.drop(columns='CATEGORY')"
   ]
  },
  {
   "cell_type": "code",
   "execution_count": 155,
   "metadata": {},
   "outputs": [],
   "source": [
    "x_test = pd.concat([x_test, df_ohe_test], axis=1).drop(columns=['RIVERSIDE'])"
   ]
  },
  {
   "cell_type": "code",
   "execution_count": 162,
   "metadata": {},
   "outputs": [],
   "source": [
    "x_test = x_test.drop(columns=['CATEGORY'])"
   ]
  },
  {
   "cell_type": "code",
   "execution_count": 163,
   "metadata": {},
   "outputs": [
    {
     "data": {
      "text/plain": [
       "(1200, 14)"
      ]
     },
     "execution_count": 163,
     "metadata": {},
     "output_type": "execute_result"
    }
   ],
   "source": [
    "x_test.shape"
   ]
  },
  {
   "cell_type": "code",
   "execution_count": 164,
   "metadata": {},
   "outputs": [],
   "source": [
    "test_feature_matrix_mean = np.mean(x_test.values)"
   ]
  },
  {
   "cell_type": "code",
   "execution_count": 167,
   "metadata": {},
   "outputs": [
    {
     "name": "stdout",
     "output_type": "stream",
     "text": [
      "Mean of the transformed test feature matrix: 2.2162318196580535\n"
     ]
    }
   ],
   "source": [
    "print(f\"Mean of the transformed test feature matrix: {test_feature_matrix_mean}\")"
   ]
  },
  {
   "cell_type": "code",
   "execution_count": null,
   "metadata": {},
   "outputs": [],
   "source": []
  }
 ],
 "metadata": {
  "kernelspec": {
   "display_name": "menv",
   "language": "python",
   "name": "python3"
  },
  "language_info": {
   "codemirror_mode": {
    "name": "ipython",
    "version": 3
   },
   "file_extension": ".py",
   "mimetype": "text/x-python",
   "name": "python",
   "nbconvert_exporter": "python",
   "pygments_lexer": "ipython3",
   "version": "3.12.3"
  }
 },
 "nbformat": 4,
 "nbformat_minor": 2
}
